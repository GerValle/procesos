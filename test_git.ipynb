{
 "cells": [
  {
   "cell_type": "code",
   "execution_count": 3,
   "metadata": {},
   "outputs": [],
   "source": [
    "import pandas as pd\n",
    "import numpy as np\n",
    "from pathlib import Path\n",
    "import yaml\n",
    "\n",
    "\n"
   ]
  },
  {
   "cell_type": "code",
   "execution_count": 6,
   "metadata": {},
   "outputs": [],
   "source": [
    "path_yaml = Path('/home/ger/GerDrive/Documentos/code_snippets/git_test/procesos_estocasticos/test.yaml') \n",
    "\n",
    "rutas = {'home': Path.home(),\n",
    "         'wd':Path('/home/ger/GerDrive/Documentos/code_snippets/git_test/procesos_estocasticos')\n",
    "         }\n",
    "\n",
    "\n",
    "with open(path_yaml, 'w',encoding='utf8') as f:\n",
    "    yaml.dump(rutas, f)"
   ]
  },
  {
   "cell_type": "code",
   "execution_count": null,
   "metadata": {},
   "outputs": [],
   "source": [
    "with open(path_yaml, 'r') as f:\n",
    "    y = yaml.load(f, Loader=yaml.Loader)"
   ]
  },
  {
   "cell_type": "code",
   "execution_count": 21,
   "metadata": {},
   "outputs": [],
   "source": [
    "path_yaml = Path(Path.home()/\n",
    "                 'GerDrive'/ \n",
    "                 'Documentos'/ \n",
    "                 'code_snippets'/\n",
    "                 'git_test'/ \n",
    "                 'procesos_estocasticos'/\n",
    "                 'test.yaml') \n",
    "\n",
    "y = path_yaml.read_text()\n",
    "y = y.format(home=Path.home())\n",
    "y = yaml.load(y, Loader=yaml.Loader)\n",
    "\n",
    "globals().update(y)"
   ]
  }
 ],
 "metadata": {
  "kernelspec": {
   "display_name": "Python 3.9.13 ('base')",
   "language": "python",
   "name": "python3"
  },
  "language_info": {
   "codemirror_mode": {
    "name": "ipython",
    "version": 3
   },
   "file_extension": ".py",
   "mimetype": "text/x-python",
   "name": "python",
   "nbconvert_exporter": "python",
   "pygments_lexer": "ipython3",
   "version": "3.9.13"
  },
  "vscode": {
   "interpreter": {
    "hash": "1f1f7fae84759820cc8e668ce77debc60b26fb93782f0499368965ebc9145114"
   }
  }
 },
 "nbformat": 4,
 "nbformat_minor": 4
}
