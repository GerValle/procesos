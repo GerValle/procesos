{
 "cells": [
  {
   "cell_type": "code",
   "execution_count": 3,
   "metadata": {},
   "outputs": [],
   "source": [
    "import pandas as pd\n",
    "import numpy as np\n",
    "from pathlib import Path\n",
    "import yaml"
   ]
  },
  {
   "cell_type": "code",
   "execution_count": null,
   "metadata": {},
   "outputs": [],
   "source": [
    "\n",
    "d = pd.DataFrame(data={'uno':[1,2,3],'dos':[4,5,6]})\n",
    "\n",
    "dy = yaml.dump(d)\n",
    "\n",
    "print(dy)"
   ]
  },
  {
   "cell_type": "code",
   "execution_count": 21,
   "metadata": {},
   "outputs": [],
   "source": [
    "path_yaml = Path(Path.home()/\n",
    "                 'GerDrive'/ \n",
    "                 'Documentos'/ \n",
    "                 'code_snippets'/\n",
    "                 'git_test'/ \n",
    "                 'procesos_estocasticos'/\n",
    "                 'test.yaml') \n",
    "\n",
    "y = path_yaml.read_text()\n",
    "y = y.format(home=Path.home())\n",
    "y = yaml.load(y, Loader=yaml.Loader)\n",
    "\n",
    "globals().update(y)"
   ]
  }
 ],
 "metadata": {
  "kernelspec": {
   "display_name": "Python 3.9.13 ('base')",
   "language": "python",
   "name": "python3"
  },
  "language_info": {
   "codemirror_mode": {
    "name": "ipython",
    "version": 3
   },
   "file_extension": ".py",
   "mimetype": "text/x-python",
   "name": "python",
   "nbconvert_exporter": "python",
   "pygments_lexer": "ipython3",
   "version": "3.9.13"
  },
  "vscode": {
   "interpreter": {
    "hash": "1f1f7fae84759820cc8e668ce77debc60b26fb93782f0499368965ebc9145114"
   }
  }
 },
 "nbformat": 4,
 "nbformat_minor": 4
}
